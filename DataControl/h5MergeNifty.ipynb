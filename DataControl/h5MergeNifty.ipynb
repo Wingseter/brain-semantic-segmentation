{
 "cells": [
  {
   "cell_type": "markdown",
   "metadata": {},
   "source": [
    "# You Have to run DataDownload.ipynb First!"
   ]
  },
  {
   "cell_type": "code",
   "execution_count": 1,
   "metadata": {},
   "outputs": [],
   "source": [
    "import pandas as pd\n",
    "import h5py\n",
    "import numpy as np\n",
    "import nibabel as nib\n",
    "from tqdm import tqdm\n",
    "from pathlib import Path\n",
    "import os\n",
    "import shutil\n",
    "import os\n",
    "import zipfile"
   ]
  },
  {
   "cell_type": "code",
   "execution_count": 2,
   "metadata": {},
   "outputs": [
    {
     "name": "stdout",
     "output_type": "stream",
     "text": [
      "Created folder: /root/Data/BraTS2020_training_data//BraTS2020_converted/image\n",
      "Created folder: /root/Data/BraTS2020_training_data//BraTS2020_converted/label\n"
     ]
    }
   ],
   "source": [
    "csv_path = '/root/Data/BraTS2020_training_data/content/data/meta_data.csv'\n",
    "target_path = '/root/Data/BraTS2020_training_data//BraTS2020_converted/'\n",
    "\n",
    "folders_to_create = ['image', 'label']\n",
    "\n",
    "# 각 폴더 생성\n",
    "for folder in folders_to_create:\n",
    "    folder_path = os.path.join(target_path, folder)\n",
    "    if not os.path.exists(folder_path):\n",
    "        os.makedirs(folder_path)\n",
    "        print(f'Created folder: {folder_path}')\n",
    "    else:\n",
    "        print(f'Folder already exists: {folder_path}')\n",
    "\n",
    "# CSV 파일 로드\n",
    "df = pd.read_csv(csv_path)"
   ]
  },
  {
   "cell_type": "code",
   "execution_count": 3,
   "metadata": {},
   "outputs": [
    {
     "name": "stderr",
     "output_type": "stream",
     "text": [
      "Processing volumes:   0%|          | 0/369 [00:00<?, ?it/s]"
     ]
    },
    {
     "name": "stderr",
     "output_type": "stream",
     "text": [
      "Processing volumes:  18%|█▊        | 67/369 [10:43<45:27,  9.03s/it]  "
     ]
    }
   ],
   "source": [
    "# volume 별로 그룹화\n",
    "grouped = df.groupby('volume')\n",
    "\n",
    "# 각 volume 그룹을 순회하며 HDF5 파일을 결합하고 저장\n",
    "for volume, group in tqdm(grouped, desc=\"Processing volumes\"):\n",
    "    if os.path.exists(f'{target_path}image/volume_{volume}_image.nii'):\n",
    "        continue\n",
    "    \n",
    "    image_slices = []\n",
    "    mask_slices = []\n",
    "\n",
    "    for _, row in group.iterrows():\n",
    "        with h5py.File(\"/root/Data/BraTS2020_training_data/\"+ row['slice_path'], 'r') as file:\n",
    "            image_slices.append(file['image'][:])\n",
    "            mask_slices.append(file['mask'][:])\n",
    "\n",
    "    # numpy 배열로 변환\n",
    "    image_data = np.stack(image_slices, axis=-1)\n",
    "    mask_data = np.stack(mask_slices, axis=-1)\n",
    "\n",
    "    # .nii 파일로 저장\n",
    "    image_nii = nib.Nifti1Image(image_data, np.eye(4))\n",
    "    mask_nii = nib.Nifti1Image(mask_data, np.eye(4))\n",
    "\n",
    "    nib.save(image_nii, f'{target_path}image/volume_{volume}_image.nii')\n",
    "    nib.save(mask_nii, f'{target_path}label/volume_{volume}_mask.nii')"
   ]
  },
  {
   "cell_type": "code",
   "execution_count": null,
   "metadata": {},
   "outputs": [],
   "source": [
    "def compress_directory(src, dest_zip):\n",
    "    # Compress the source directory into a zip file\n",
    "    shutil.make_archive(dest_zip, 'zip', src)"
   ]
  },
  {
   "cell_type": "code",
   "execution_count": null,
   "metadata": {},
   "outputs": [],
   "source": [
    "def copy_file(src, dest):\n",
    "    # Copy the zip file to the destination directory\n",
    "    shutil.copy(src, dest)"
   ]
  },
  {
   "cell_type": "code",
   "execution_count": null,
   "metadata": {},
   "outputs": [],
   "source": [
    "compressed_file = '/root/Data/BraTS2020_training_data/compressed_file'  # Temporary location for compressed file\n",
    "compressed_file_zip = compressed_file + '.zip'\n",
    "drive_path = '/content/drive/MyDrive/DeepLearningData/'"
   ]
  },
  {
   "cell_type": "code",
   "execution_count": null,
   "metadata": {},
   "outputs": [],
   "source": [
    "# Compress the source directory\n",
    "compress_directory(target_path, compressed_file)"
   ]
  },
  {
   "cell_type": "code",
   "execution_count": null,
   "metadata": {},
   "outputs": [],
   "source": [
    "copy_file(compress_directory, drive_path)"
   ]
  }
 ],
 "metadata": {
  "kernelspec": {
   "display_name": "Python 3",
   "language": "python",
   "name": "python3"
  },
  "language_info": {
   "codemirror_mode": {
    "name": "ipython",
    "version": 3
   },
   "file_extension": ".py",
   "mimetype": "text/x-python",
   "name": "python",
   "nbconvert_exporter": "python",
   "pygments_lexer": "ipython3",
   "version": "3.10.12"
  }
 },
 "nbformat": 4,
 "nbformat_minor": 2
}
