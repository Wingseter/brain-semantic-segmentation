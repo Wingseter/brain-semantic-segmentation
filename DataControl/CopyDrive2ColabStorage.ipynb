{
 "cells": [
  {
   "cell_type": "code",
   "execution_count": 1,
   "metadata": {},
   "outputs": [],
   "source": [
    "import shutil\n",
    "import os\n",
    "import zipfile"
   ]
  },
  {
   "cell_type": "code",
   "execution_count": 2,
   "metadata": {},
   "outputs": [],
   "source": [
    "def decompress_directory(src_zip, dest_dir):\n",
    "    # Decompress the zip file into the destination directory\n",
    "    with zipfile.ZipFile(src_zip, 'r') as zip_ref:\n",
    "        zip_ref.extractall(dest_dir)\n",
    "\n",
    "def copy_file(src, dest):\n",
    "    # Copy the zip file to the destination directory\n",
    "    shutil.copy(src, dest)\n"
   ]
  },
  {
   "cell_type": "code",
   "execution_count": 3,
   "metadata": {},
   "outputs": [],
   "source": [
    "# Define source and target directories\n",
    "file_name = 'compressed_file.zip'\n",
    "source_directory = '/content/drive/MyDrive/DeepLearningData/' + file_name\n",
    "target_directory = '/root/Data/'\n",
    "compressed_file = target_directory + file_name"
   ]
  },
  {
   "cell_type": "code",
   "execution_count": null,
   "metadata": {},
   "outputs": [],
   "source": [
    "# Copy the compressed file to the target directory\n",
    "copy_file(source_directory, target_directory)"
   ]
  },
  {
   "cell_type": "code",
   "execution_count": null,
   "metadata": {},
   "outputs": [],
   "source": [
    "decompress_directory(os.path.join(target_directory, file_name), target_directory)\n",
    "\n",
    "print(f'Compressed, copied, and decompressed files from {source_directory} to {target_directory}')"
   ]
  }
 ],
 "metadata": {
  "kernelspec": {
   "display_name": "Python 3",
   "language": "python",
   "name": "python3"
  },
  "language_info": {
   "codemirror_mode": {
    "name": "ipython",
    "version": 3
   },
   "file_extension": ".py",
   "mimetype": "text/x-python",
   "name": "python",
   "nbconvert_exporter": "python",
   "pygments_lexer": "ipython3",
   "version": "3.10.12"
  }
 },
 "nbformat": 4,
 "nbformat_minor": 2
}
