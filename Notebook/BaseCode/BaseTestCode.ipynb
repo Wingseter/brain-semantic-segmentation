{
 "cells": [
  {
   "cell_type": "code",
   "execution_count": 1,
   "metadata": {},
   "outputs": [],
   "source": [
    "import os\n",
    "import random\n",
    "import shutil\n",
    "import tempfile\n",
    "import time\n",
    "import numpy as np \n",
    "import matplotlib.pyplot as plt\n",
    "\n",
    "from monai.data import DataLoader, decollate_batch, Dataset, CacheDataset\n",
    "from monai.losses import DiceLoss\n",
    "from monai.inferers import sliding_window_inference\n",
    "from monai.metrics import DiceMetric\n",
    "from monai.networks.nets import UNet, SegResNet\n",
    "from monai.transforms import (\n",
    "    Activations,\n",
    "    Compose,\n",
    "    LoadImaged,\n",
    "    MapTransform,\n",
    "    NormalizeIntensityd,\n",
    "    Orientationd,\n",
    "    Spacingd,\n",
    "    EnsureTyped,\n",
    "    EnsureChannelFirstd,\n",
    "    RandFlipd,\n",
    "    RandScaleIntensityd,\n",
    "    RandShiftIntensityd,\n",
    "    RandSpatialCropd,\n",
    "    AsDiscrete,\n",
    "    Resized,\n",
    "\n",
    ")\n",
    "\n",
    "import torch\n",
    "from pathlib import Path\n",
    "from natsort import natsorted\n",
    "from tqdm.notebook import tqdm"
   ]
  },
  {
   "cell_type": "code",
   "execution_count": 2,
   "metadata": {},
   "outputs": [],
   "source": [
    "class cfg: \n",
    "    base_path = Path('/player/data/BraTS2020_converted')\n",
    "    image_path = base_path / \"image\"\n",
    "    label_path = base_path / \"label\"\n",
    "    seed = 2023\n",
    "    in_channels=4\n",
    "    out_channels=3\n",
    "    save_dir = Path('/player/workspace/Python/brain-otock/Model')\n",
    "    "
   ]
  },
  {
   "cell_type": "code",
   "execution_count": 3,
   "metadata": {},
   "outputs": [
    {
     "name": "stdout",
     "output_type": "stream",
     "text": [
      "the length of match is 30\n"
     ]
    }
   ],
   "source": [
    "test_data_dicts = []\n",
    "\n",
    "image_files = [cfg.image_path / file_path for file_path in sorted(os.listdir(cfg.image_path))][-30:]\n",
    "\n",
    "\n",
    "for image_file in image_files:\n",
    "    match_number = image_file.name.split('_')[-2]\n",
    "    label_file = cfg.label_path / f\"volume_{match_number}_mask.nii\"\n",
    "\n",
    "    # only add match \n",
    "    if os.path.exists(label_file):\n",
    "        test_data_dicts.append({\"image\": str(image_file), \"label\": str(label_file)})\n",
    "        \n",
    "print(f\"the length of match is {len(test_data_dicts)}\")"
   ]
  },
  {
   "cell_type": "code",
   "execution_count": 4,
   "metadata": {},
   "outputs": [
    {
     "name": "stdout",
     "output_type": "stream",
     "text": [
      "the length of train dataset is 30\n",
      "{'image': '/player/data/BraTS2020_converted/image/volume_73_image.nii', 'label': '/player/data/BraTS2020_converted/label/volume_73_mask.nii'}\n"
     ]
    }
   ],
   "source": [
    "print(f\"the length of train dataset is {len(test_data_dicts)}\")\n",
    "print(test_data_dicts[0])"
   ]
  },
  {
   "cell_type": "code",
   "execution_count": 5,
   "metadata": {},
   "outputs": [],
   "source": [
    "class ConvertToMultiChannelBasedOnBratsClassesd(MapTransform):\n",
    "    \"\"\"\n",
    "    Convert input channels to specific output channels using PyTorch tensors.\n",
    "\n",
    "    Input Dimension: (W, H, D, C(Channel)) \n",
    "    Input Channel Description:\n",
    "        0: 'Necrotic (NEC)' unique (0, 1)\n",
    "        1: 'Edema (ED)' unique (0, 1)\n",
    "        2: 'Tumour (ET)' unique (0, 1)\n",
    "\n",
    "    Output Dimension: (C(Channel), W, H, D)\n",
    "    Output Channel Description:\n",
    "        0: TC (Tumor core)\n",
    "        1: WT (Whole tumor)\n",
    "        2: ET (Enhancing tumor)\n",
    "    \"\"\"\n",
    "\n",
    "    def __call__(self, data):\n",
    "        d = dict(data)\n",
    "        for key in self.keys:\n",
    "            # Convert data to PyTorch tensor if not already one\n",
    "            data_tensor = data[key]\n",
    "\n",
    "            necrotic = data_tensor[..., 0]\n",
    "            edema = data_tensor[..., 1]\n",
    "            enhancing = data_tensor[..., 2]\n",
    "\n",
    "            # Compute TC: necrotic and enhancing tumor areas (logical OR)\n",
    "            tc = torch.logical_or(necrotic, enhancing)\n",
    "\n",
    "            # Compute WT: all tumor areas (logical OR among all channels)\n",
    "            wt = torch.logical_or(torch.logical_or(necrotic, edema), enhancing)\n",
    "\n",
    "            # Combine channels into a new tensor with dimensions (C, W, H, D)\n",
    "            d[key] = torch.stack([tc, wt, enhancing], dim=0)\n",
    "\n",
    "        return d\n"
   ]
  },
  {
   "cell_type": "code",
   "execution_count": 6,
   "metadata": {},
   "outputs": [],
   "source": [
    "# Test transform\n",
    "test_transform = Compose(\n",
    "    [\n",
    "        LoadImaged(keys=[\"image\", \"label\"]),\n",
    "        EnsureChannelFirstd(keys=\"image\"),\n",
    "        EnsureTyped(keys=[\"image\", \"label\"]),\n",
    "        ConvertToMultiChannelBasedOnBratsClassesd(keys=\"label\"),\n",
    "        Orientationd(keys=[\"image\", \"label\"], axcodes=\"RAS\"),\n",
    "        Resized(keys=[\"image\"], spatial_size=[128, 128, 80], mode=\"bilinear\"),\n",
    "        Resized(keys=[\"label\"], spatial_size=[128, 128, 80], mode=\"nearest\"),\n",
    "    ]\n",
    ")"
   ]
  },
  {
   "cell_type": "code",
   "execution_count": 9,
   "metadata": {},
   "outputs": [],
   "source": [
    "# Define train and validation datasets with caching\n",
    "test_dataset = Dataset(data=test_data_dicts, transform=test_transform)\n",
    "\n",
    "# Define DataLoaders\n",
    "test_loader = DataLoader(test_dataset, batch_size=1, shuffle=True, num_workers=3)"
   ]
  },
  {
   "cell_type": "code",
   "execution_count": 10,
   "metadata": {},
   "outputs": [],
   "source": [
    "def seed_everything(seed):\n",
    "    random.seed(seed)\n",
    "    os.environ['PYTHONHASHSEED'] = str(seed)\n",
    "    np.random.seed(seed)\n",
    "    torch.manual_seed(seed)\n",
    "    torch.cuda.manual_seed(seed)\n",
    "    torch.backends.cudnn.deterministic = True\n",
    "    torch.backends.cudnn.benchmark = True\n",
    "\n",
    "seed_everything(cfg.seed)"
   ]
  },
  {
   "cell_type": "code",
   "execution_count": 11,
   "metadata": {},
   "outputs": [],
   "source": [
    "val_interval = 1\n",
    "VAL_AMP = True\n",
    "\n",
    "# standard PyTorch program style: create SegResNet, DiceLoss, and Adam optimizer\n",
    "model = SegResNet(\n",
    "    blocks_down=[1, 2, 2, 4],\n",
    "    blocks_up=[1, 1, 1],\n",
    "    init_filters=16,\n",
    "    in_channels=4,\n",
    "    out_channels=3,\n",
    "    dropout_prob=0.2,\n",
    ").cuda()\n",
    "\n",
    "\n",
    "dice_metric = DiceMetric(include_background=True, reduction=\"mean\")\n",
    "\n",
    "post_trans = Compose([Activations(sigmoid=True), AsDiscrete(threshold=0.5)])\n",
    "\n",
    "# define inference method\n",
    "def inference(input):\n",
    "    def _compute(input):\n",
    "        # Direct inference without sliding window\n",
    "        return model(input)\n",
    "\n",
    "    if VAL_AMP:\n",
    "        with torch.cuda.amp.autocast():\n",
    "            return _compute(input)\n",
    "    else:\n",
    "        return _compute(input)\n",
    "\n",
    "# use amp to accelerate training\n",
    "scaler = torch.cuda.amp.GradScaler()\n",
    "# enable cuDNN benchmark\n",
    "torch.backends.cudnn.benchmark = True\n"
   ]
  },
  {
   "cell_type": "code",
   "execution_count": 12,
   "metadata": {},
   "outputs": [
    {
     "name": "stderr",
     "output_type": "stream",
     "text": [
      "Test: 100%|██████████| 8/8 [04:23<00:00, 33.00s/batch]\n"
     ]
    },
    {
     "name": "stdout",
     "output_type": "stream",
     "text": [
      "Model: best_metric_model_0.7519.pth, Dice Metric: 0.7574\n"
     ]
    },
    {
     "name": "stderr",
     "output_type": "stream",
     "text": [
      "Test: 100%|██████████| 8/8 [02:37<00:00, 19.71s/batch]\n"
     ]
    },
    {
     "name": "stdout",
     "output_type": "stream",
     "text": [
      "Model: best_metric_model_0.7534.pth, Dice Metric: 0.7788\n"
     ]
    },
    {
     "name": "stderr",
     "output_type": "stream",
     "text": [
      "Test: 100%|██████████| 8/8 [02:36<00:00, 19.53s/batch]\n"
     ]
    },
    {
     "name": "stdout",
     "output_type": "stream",
     "text": [
      "Model: best_metric_model_0.7536.pth, Dice Metric: 0.7712\n"
     ]
    },
    {
     "name": "stderr",
     "output_type": "stream",
     "text": [
      "Test: 100%|██████████| 8/8 [02:40<00:00, 20.11s/batch]\n"
     ]
    },
    {
     "name": "stdout",
     "output_type": "stream",
     "text": [
      "Model: best_metric_model_0.7612.pth, Dice Metric: 0.7808\n"
     ]
    },
    {
     "name": "stderr",
     "output_type": "stream",
     "text": [
      "Test: 100%|██████████| 8/8 [02:38<00:00, 19.76s/batch]\n"
     ]
    },
    {
     "name": "stdout",
     "output_type": "stream",
     "text": [
      "Model: best_metric_model_0.7619.pth, Dice Metric: 0.7774\n"
     ]
    },
    {
     "name": "stderr",
     "output_type": "stream",
     "text": [
      "Test: 100%|██████████| 8/8 [02:38<00:00, 19.81s/batch]\n"
     ]
    },
    {
     "name": "stdout",
     "output_type": "stream",
     "text": [
      "Model: best_metric_model_0.7621.pth, Dice Metric: 0.7747\n"
     ]
    },
    {
     "name": "stderr",
     "output_type": "stream",
     "text": [
      "Test: 100%|██████████| 8/8 [02:38<00:00, 19.79s/batch]\n"
     ]
    },
    {
     "name": "stdout",
     "output_type": "stream",
     "text": [
      "Model: best_metric_model_0.7640.pth, Dice Metric: 0.7532\n"
     ]
    },
    {
     "name": "stderr",
     "output_type": "stream",
     "text": [
      "Test: 100%|██████████| 8/8 [02:38<00:00, 19.81s/batch]\n"
     ]
    },
    {
     "name": "stdout",
     "output_type": "stream",
     "text": [
      "Model: best_metric_model_0.7641.pth, Dice Metric: 0.7834\n"
     ]
    },
    {
     "name": "stderr",
     "output_type": "stream",
     "text": [
      "Test: 100%|██████████| 8/8 [02:38<00:00, 19.82s/batch]\n"
     ]
    },
    {
     "name": "stdout",
     "output_type": "stream",
     "text": [
      "Model: best_metric_model_0.7645.pth, Dice Metric: 0.7733\n"
     ]
    },
    {
     "name": "stderr",
     "output_type": "stream",
     "text": [
      "Test: 100%|██████████| 8/8 [02:36<00:00, 19.54s/batch]\n"
     ]
    },
    {
     "name": "stdout",
     "output_type": "stream",
     "text": [
      "Model: best_metric_model_0.7672.pth, Dice Metric: 0.7733\n"
     ]
    },
    {
     "name": "stderr",
     "output_type": "stream",
     "text": [
      "Test: 100%|██████████| 8/8 [02:35<00:00, 19.40s/batch]\n"
     ]
    },
    {
     "name": "stdout",
     "output_type": "stream",
     "text": [
      "Model: best_metric_model_0.7674.pth, Dice Metric: 0.7744\n"
     ]
    },
    {
     "name": "stderr",
     "output_type": "stream",
     "text": [
      "Test: 100%|██████████| 8/8 [02:39<00:00, 19.95s/batch]\n"
     ]
    },
    {
     "name": "stdout",
     "output_type": "stream",
     "text": [
      "Model: best_metric_model_0.7713.pth, Dice Metric: 0.7769\n"
     ]
    },
    {
     "name": "stderr",
     "output_type": "stream",
     "text": [
      "Test: 100%|██████████| 8/8 [02:38<00:00, 19.75s/batch]\n"
     ]
    },
    {
     "name": "stdout",
     "output_type": "stream",
     "text": [
      "Model: best_metric_model_0.7747.pth, Dice Metric: 0.7900\n"
     ]
    },
    {
     "name": "stderr",
     "output_type": "stream",
     "text": [
      "Test: 100%|██████████| 8/8 [02:35<00:00, 19.50s/batch]"
     ]
    },
    {
     "name": "stdout",
     "output_type": "stream",
     "text": [
      "Model: best_metric_model_0.7790.pth, Dice Metric: 0.7793\n"
     ]
    },
    {
     "name": "stderr",
     "output_type": "stream",
     "text": [
      "\n"
     ]
    }
   ],
   "source": [
    "import os\n",
    "import torch\n",
    "from tqdm import tqdm\n",
    "\n",
    "# 모델을 평가 모드로 설정\n",
    "model.eval()\n",
    "\n",
    "# 저장된 모델 파일들을 순회\n",
    "for load_model in os.listdir(cfg.save_dir):\n",
    "    full_path = os.path.join(cfg.save_dir, load_model)\n",
    "    \n",
    "    # 모델 로드\n",
    "    model.load_state_dict(torch.load(full_path))\n",
    "\n",
    "    with torch.no_grad():\n",
    "        # 테스트 루프\n",
    "        with tqdm(total=len(test_loader), desc=\"Test\", unit=\"batch\") as pbar_val:\n",
    "            for test_data in test_loader:\n",
    "                test_inputs, test_labels = (\n",
    "                    test_data[\"image\"].to('cuda'),\n",
    "                    test_data[\"label\"].to('cuda')\n",
    "                )\n",
    "                # 모델 추론\n",
    "                test_outputs = inference(test_inputs)\n",
    "\n",
    "                # 후처리 및 배치 디콜레이트\n",
    "                test_outputs = [post_trans(i) for i in decollate_batch(test_outputs)]\n",
    "\n",
    "                # Dice 지표 계산\n",
    "                dice_metric(y_pred=test_outputs, y=test_labels)\n",
    "                pbar_val.update(1)\n",
    "        \n",
    "        # 최종 결과 계산 및 출력\n",
    "        metric = dice_metric.aggregate().item()\n",
    "        dice_metric.reset()\n",
    "        print(f\"Model: {load_model}, Dice Metric: {metric:.4f}\")"
   ]
  }
 ],
 "metadata": {
  "kernelspec": {
   "display_name": "Python 3",
   "language": "python",
   "name": "python3"
  },
  "language_info": {
   "codemirror_mode": {
    "name": "ipython",
    "version": 3
   },
   "file_extension": ".py",
   "mimetype": "text/x-python",
   "name": "python",
   "nbconvert_exporter": "python",
   "pygments_lexer": "ipython3",
   "version": "3.10.14"
  }
 },
 "nbformat": 4,
 "nbformat_minor": 2
}
