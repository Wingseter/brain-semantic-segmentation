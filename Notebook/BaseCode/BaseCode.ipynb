{
 "cells": [
  {
   "cell_type": "code",
   "execution_count": 2,
   "metadata": {},
   "outputs": [],
   "source": [
    "import os\n",
    "import random\n",
    "import shutil\n",
    "import tempfile\n",
    "import time\n",
    "import numpy as np \n",
    "\n",
    "from monai.data import DataLoader, decollate_batch, Dataset, CacheDataset\n",
    "from monai.losses import DiceLoss\n",
    "from monai.inferers import sliding_window_inference\n",
    "from monai.metrics import DiceMetric\n",
    "from monai.networks.nets import UNet, SegResNet\n",
    "from monai.transforms import (\n",
    "    Activations,\n",
    "    Compose,\n",
    "    LoadImaged,\n",
    "    MapTransform,\n",
    "    NormalizeIntensityd,\n",
    "    Orientationd,\n",
    "    Spacingd,\n",
    "    EnsureTyped,\n",
    "    EnsureChannelFirstd,\n",
    "    RandFlipd,\n",
    "    RandScaleIntensityd,\n",
    "    RandShiftIntensityd,\n",
    "    RandSpatialCropd,\n",
    "    AsDiscrete,\n",
    "    Resized,\n",
    "\n",
    ")\n",
    "\n",
    "import torch\n",
    "from pathlib import Path\n",
    "from tqdm.notebook import tqdm"
   ]
  },
  {
   "cell_type": "code",
   "execution_count": 3,
   "metadata": {},
   "outputs": [],
   "source": [
    "class cfg: \n",
    "    base_path = Path('/player/data/BraTS2020_converted')\n",
    "    image_path = base_path / \"image\"\n",
    "    label_path = base_path / \"label\"\n",
    "    seed = 2023\n",
    "    max_epochs = 400\n",
    "    val_interval =1\n",
    "    in_channels=4\n",
    "    out_channels=3\n",
    "    save_dir = Path('/player/workspace/Python/brain-otock/Model')\n",
    "    "
   ]
  },
  {
   "cell_type": "code",
   "execution_count": 4,
   "metadata": {},
   "outputs": [
    {
     "name": "stdout",
     "output_type": "stream",
     "text": [
      "the length of match is 339\n"
     ]
    }
   ],
   "source": [
    "train_data_dicts = []\n",
    "\n",
    "image_files = [cfg.image_path / file_path for file_path in sorted(os.listdir(cfg.image_path))][:-30]\n",
    "\n",
    "\n",
    "for image_file in image_files:\n",
    "    match_number = image_file.name.split('_')[-2]\n",
    "    label_file = cfg.label_path / f\"volume_{match_number}_mask.nii\"\n",
    "\n",
    "    # only add match \n",
    "    if os.path.exists(label_file):\n",
    "        train_data_dicts.append({\"image\": str(image_file), \"label\": str(label_file)})\n",
    "        \n",
    "print(f\"the length of match is {len(train_data_dicts)}\")"
   ]
  },
  {
   "cell_type": "code",
   "execution_count": 5,
   "metadata": {},
   "outputs": [
    {
     "name": "stdout",
     "output_type": "stream",
     "text": [
      "the length of train dataset is 339\n",
      "{'image': '/player/data/BraTS2020_converted/image/volume_277_image.nii', 'label': '/player/data/BraTS2020_converted/label/volume_277_mask.nii'}\n"
     ]
    }
   ],
   "source": [
    "print(f\"the length of train dataset is {len(train_data_dicts)}\")\n",
    "print(train_data_dicts[195])"
   ]
  },
  {
   "cell_type": "code",
   "execution_count": 6,
   "metadata": {},
   "outputs": [],
   "source": [
    "class ConvertToMultiChannelBasedOnBratsClassesd(MapTransform):\n",
    "    \"\"\"\n",
    "    Convert input channels to specific output channels using PyTorch tensors.\n",
    "\n",
    "    Input Dimension: (W, H, D, C(Channel)) \n",
    "    Input Channel Description:\n",
    "        0: 'Necrotic (NEC)' unique (0, 1)\n",
    "        1: 'Edema (ED)' unique (0, 1)\n",
    "        2: 'Tumour (ET)' unique (0, 1)\n",
    "\n",
    "    Output Dimension: (C(Channel), W, H, D)\n",
    "    Output Channel Description:\n",
    "        0: TC (Tumor core)\n",
    "        1: WT (Whole tumor)\n",
    "        2: ET (Enhancing tumor)\n",
    "    \"\"\"\n",
    "\n",
    "    def __call__(self, data):\n",
    "        d = dict(data)\n",
    "        for key in self.keys:\n",
    "            # Convert data to PyTorch tensor if not already one\n",
    "            data_tensor = data[key]\n",
    "\n",
    "            necrotic = data_tensor[..., 0]\n",
    "            edema = data_tensor[..., 1]\n",
    "            enhancing = data_tensor[..., 2]\n",
    "\n",
    "            # Compute TC: necrotic and enhancing tumor areas (logical OR)\n",
    "            tc = torch.logical_or(necrotic, enhancing)\n",
    "\n",
    "            # Compute WT: all tumor areas (logical OR among all channels)\n",
    "            wt = torch.logical_or(torch.logical_or(necrotic, edema), enhancing)\n",
    "\n",
    "            # Combine channels into a new tensor with dimensions (C, W, H, D)\n",
    "            d[key] = torch.stack([tc, wt, enhancing], dim=0)\n",
    "\n",
    "        return d\n"
   ]
  },
  {
   "cell_type": "code",
   "execution_count": 7,
   "metadata": {},
   "outputs": [],
   "source": [
    "# Training transform\n",
    "train_transform = Compose(\n",
    "    [\n",
    "        LoadImaged(keys=[\"image\", \"label\"]),\n",
    "        EnsureChannelFirstd(keys=\"image\"),\n",
    "        EnsureTyped(keys=[\"image\", \"label\"]),\n",
    "        ConvertToMultiChannelBasedOnBratsClassesd(keys=\"label\"),\n",
    "        Orientationd(keys=[\"image\", \"label\"], axcodes=\"RAS\"),\n",
    "        Resized(keys=[\"image\"], spatial_size=[128, 128, 80], mode=\"bilinear\"),\n",
    "        Resized(keys=[\"label\"], spatial_size=[128, 128, 80], mode=\"nearest\"),\n",
    "    ]\n",
    ")\n",
    "\n",
    "# Validation transform\n",
    "val_transform = Compose(\n",
    "    [\n",
    "        LoadImaged(keys=[\"image\", \"label\"]),\n",
    "        EnsureChannelFirstd(keys=\"image\"),\n",
    "        EnsureTyped(keys=[\"image\", \"label\"]),\n",
    "        ConvertToMultiChannelBasedOnBratsClassesd(keys=\"label\"),\n",
    "        Orientationd(keys=[\"image\", \"label\"], axcodes=\"RAS\"),\n",
    "        Resized(keys=[\"image\"], spatial_size=[128, 128, 80], mode=\"bilinear\"),\n",
    "        Resized(keys=[\"label\"], spatial_size=[128, 128, 80], mode=\"nearest\"),\n",
    "    ]\n",
    ")"
   ]
  },
  {
   "cell_type": "code",
   "execution_count": 8,
   "metadata": {},
   "outputs": [],
   "source": [
    "from sklearn.model_selection import train_test_split\n",
    "train_dict, valid_dict = train_test_split(train_data_dicts, test_size=0.2, random_state=2023)"
   ]
  },
  {
   "cell_type": "code",
   "execution_count": 9,
   "metadata": {},
   "outputs": [],
   "source": [
    "# Define train and validation datasets with caching\n",
    "train_dataset = CacheDataset(data=train_dict, transform=train_transform, cache_rate=0, num_workers=3)\n",
    "valid_dataset = CacheDataset(data=valid_dict, transform=val_transform, cache_rate=0, num_workers=3)\n",
    "\n",
    "# Define DataLoaders\n",
    "train_loader = DataLoader(train_dataset, batch_size=4, shuffle=True, num_workers=3, prefetch_factor=2, pin_memory=True)\n",
    "val_loader = DataLoader(valid_dataset, batch_size=2, shuffle=False, num_workers=3, prefetch_factor=2, pin_memory=True)"
   ]
  },
  {
   "cell_type": "code",
   "execution_count": 13,
   "metadata": {},
   "outputs": [
    {
     "data": {
      "text/plain": [
       "array([0., 1.], dtype=float32)"
      ]
     },
     "execution_count": 13,
     "metadata": {},
     "output_type": "execute_result"
    }
   ],
   "source": [
    "val_data_example = valid_dataset[0]\n",
    "np.unique(val_data_example['label'])"
   ]
  },
  {
   "cell_type": "code",
   "execution_count": 10,
   "metadata": {},
   "outputs": [],
   "source": [
    "# val_data_example = valid_dataset[2]\n",
    "# print(f\"image shape: {val_data_example['image'].shape}\")\n",
    "# plt.figure(\"image\", (24, 6))\n",
    "# for i in range(4):\n",
    "#     plt.subplot(1, 4, i + 1)\n",
    "#     plt.title(f\"image channel {i}\")\n",
    "#     plt.imshow(val_data_example[\"image\"][i, :, :, 60].detach().cpu(), cmap=\"gray\")\n",
    "# plt.show()\n",
    "\n",
    "# # also visualize the 3 channels label corresponding to this image\n",
    "# print(f\"label shape: {val_data_example['label'].shape}\")\n",
    "# plt.figure(\"label\", (18, 6))\n",
    "# for i in range(3):\n",
    "#     plt.subplot(1, 3, i + 1)\n",
    "#     plt.title(f\"label channel {i}\")\n",
    "#     plt.imshow(val_data_example[\"label\"][i, :, :, 60].detach().cpu())\n",
    "# plt.show()"
   ]
  },
  {
   "cell_type": "code",
   "execution_count": 11,
   "metadata": {},
   "outputs": [],
   "source": [
    "def seed_everything(seed):\n",
    "    random.seed(seed)\n",
    "    os.environ['PYTHONHASHSEED'] = str(seed)\n",
    "    np.random.seed(seed)\n",
    "    torch.manual_seed(seed)\n",
    "    torch.cuda.manual_seed(seed)\n",
    "    torch.backends.cudnn.deterministic = True\n",
    "    torch.backends.cudnn.benchmark = True\n",
    "\n",
    "seed_everything(cfg.seed)"
   ]
  },
  {
   "cell_type": "code",
   "execution_count": 11,
   "metadata": {},
   "outputs": [],
   "source": [
    "val_interval = 1\n",
    "VAL_AMP = True\n",
    "\n",
    "# standard PyTorch program style: create SegResNet, DiceLoss, and Adam optimizer\n",
    "model = SegResNet(\n",
    "    blocks_down=[1, 2, 2, 4],\n",
    "    blocks_up=[1, 1, 1],\n",
    "    init_filters=16,\n",
    "    in_channels=4,\n",
    "    out_channels=3,\n",
    "    dropout_prob=0.2,\n",
    ").cuda()\n",
    "\n",
    "loss_function = DiceLoss(smooth_nr=0, smooth_dr=1e-5, squared_pred=True, to_onehot_y=False, sigmoid=True)\n",
    "optimizer = torch.optim.Adam(model.parameters(), 1e-4, weight_decay=1e-5)\n",
    "lr_scheduler = torch.optim.lr_scheduler.CosineAnnealingLR(optimizer, T_max=cfg.max_epochs)\n",
    "\n",
    "dice_metric = DiceMetric(include_background=True, reduction=\"mean\")\n",
    "dice_metric_batch = DiceMetric(include_background=True, reduction=\"mean_batch\")\n",
    "\n",
    "post_trans = Compose([Activations(sigmoid=True), AsDiscrete(threshold=0.5)])\n",
    "\n",
    "# define inference method\n",
    "def inference(input):\n",
    "    def _compute(input):\n",
    "        # Direct inference without sliding window\n",
    "        return model(input)\n",
    "\n",
    "    if VAL_AMP:\n",
    "        with torch.cuda.amp.autocast():\n",
    "            return _compute(input)\n",
    "    else:\n",
    "        return _compute(input)\n",
    "\n",
    "# use amp to accelerate training\n",
    "scaler = torch.cuda.amp.GradScaler()\n",
    "# enable cuDNN benchmark\n",
    "torch.backends.cudnn.benchmark = True\n"
   ]
  },
  {
   "cell_type": "code",
   "execution_count": 12,
   "metadata": {},
   "outputs": [
    {
     "data": {
      "text/plain": [
       "<All keys matched successfully>"
      ]
     },
     "execution_count": 12,
     "metadata": {},
     "output_type": "execute_result"
    }
   ],
   "source": [
    "model.load_state_dict(torch.load(str(cfg.save_dir / f\"best_metric_model_0.7641.pth\")))"
   ]
  },
  {
   "cell_type": "code",
   "execution_count": 13,
   "metadata": {},
   "outputs": [
    {
     "name": "stdout",
     "output_type": "stream",
     "text": [
      "----------\n",
      "Epoch 1/400\n"
     ]
    },
    {
     "data": {
      "application/vnd.jupyter.widget-view+json": {
       "model_id": "4098025dbd364ecd95ec01776674387f",
       "version_major": 2,
       "version_minor": 0
      },
      "text/plain": [
       "Epoch 1/400:   0%|          | 0/68 [00:00<?, ?batch/s]"
      ]
     },
     "metadata": {},
     "output_type": "display_data"
    },
    {
     "name": "stdout",
     "output_type": "stream",
     "text": [
      "Epoch 1 average loss: 0.1293\n"
     ]
    },
    {
     "data": {
      "application/vnd.jupyter.widget-view+json": {
       "model_id": "68f04335f64b44e680bc2645222337a6",
       "version_major": 2,
       "version_minor": 0
      },
      "text/plain": [
       "Validation:   0%|          | 0/34 [00:00<?, ?batch/s]"
      ]
     },
     "metadata": {},
     "output_type": "display_data"
    },
    {
     "name": "stdout",
     "output_type": "stream",
     "text": [
      "Saved new best metric model\n",
      "Current epoch: 1 current mean dice: 0.7672 tc: 0.7430 wt: 0.8607 et: 0.7026\n",
      "Best mean dice: 0.7672 at epoch: 1\n",
      "Time consuming for epoch 1 is: 2314.3881 seconds\n",
      "----------\n",
      "Epoch 2/400\n"
     ]
    },
    {
     "data": {
      "application/vnd.jupyter.widget-view+json": {
       "model_id": "1738334762a341bb8c98fb9885f740a2",
       "version_major": 2,
       "version_minor": 0
      },
      "text/plain": [
       "Epoch 2/400:   0%|          | 0/68 [00:00<?, ?batch/s]"
      ]
     },
     "metadata": {},
     "output_type": "display_data"
    },
    {
     "name": "stdout",
     "output_type": "stream",
     "text": [
      "Epoch 2 average loss: 0.1230\n"
     ]
    },
    {
     "data": {
      "application/vnd.jupyter.widget-view+json": {
       "model_id": "4ac10c11529f4d59b91bc90cdb2c2778",
       "version_major": 2,
       "version_minor": 0
      },
      "text/plain": [
       "Validation:   0%|          | 0/34 [00:00<?, ?batch/s]"
      ]
     },
     "metadata": {},
     "output_type": "display_data"
    },
    {
     "name": "stdout",
     "output_type": "stream",
     "text": [
      "Current epoch: 2 current mean dice: 0.7566 tc: 0.7267 wt: 0.8626 et: 0.6895\n",
      "Best mean dice: 0.7672 at epoch: 1\n",
      "Time consuming for epoch 2 is: 2294.9254 seconds\n",
      "----------\n",
      "Epoch 3/400\n"
     ]
    },
    {
     "data": {
      "application/vnd.jupyter.widget-view+json": {
       "model_id": "c365057ed79344699de2d660ff844735",
       "version_major": 2,
       "version_minor": 0
      },
      "text/plain": [
       "Epoch 3/400:   0%|          | 0/68 [00:00<?, ?batch/s]"
      ]
     },
     "metadata": {},
     "output_type": "display_data"
    },
    {
     "name": "stdout",
     "output_type": "stream",
     "text": [
      "Epoch 3 average loss: 0.1201\n"
     ]
    },
    {
     "data": {
      "application/vnd.jupyter.widget-view+json": {
       "model_id": "f391b178a1bb4bc085b4d96af5a56986",
       "version_major": 2,
       "version_minor": 0
      },
      "text/plain": [
       "Validation:   0%|          | 0/34 [00:00<?, ?batch/s]"
      ]
     },
     "metadata": {},
     "output_type": "display_data"
    },
    {
     "name": "stdout",
     "output_type": "stream",
     "text": [
      "Current epoch: 3 current mean dice: 0.7612 tc: 0.7370 wt: 0.8621 et: 0.6951\n",
      "Best mean dice: 0.7672 at epoch: 1\n",
      "Time consuming for epoch 3 is: 2296.9217 seconds\n",
      "----------\n",
      "Epoch 4/400\n"
     ]
    },
    {
     "data": {
      "application/vnd.jupyter.widget-view+json": {
       "model_id": "e270fa79b57f4fde9efd2dc44583fdca",
       "version_major": 2,
       "version_minor": 0
      },
      "text/plain": [
       "Epoch 4/400:   0%|          | 0/68 [00:00<?, ?batch/s]"
      ]
     },
     "metadata": {},
     "output_type": "display_data"
    },
    {
     "name": "stdout",
     "output_type": "stream",
     "text": [
      "Epoch 4 average loss: 0.1200\n"
     ]
    },
    {
     "data": {
      "application/vnd.jupyter.widget-view+json": {
       "model_id": "7a08f5bb6404472b83955b6e6c642cab",
       "version_major": 2,
       "version_minor": 0
      },
      "text/plain": [
       "Validation:   0%|          | 0/34 [00:00<?, ?batch/s]"
      ]
     },
     "metadata": {},
     "output_type": "display_data"
    },
    {
     "name": "stdout",
     "output_type": "stream",
     "text": [
      "Saved new best metric model\n",
      "Current epoch: 4 current mean dice: 0.7674 tc: 0.7478 wt: 0.8596 et: 0.6978\n",
      "Best mean dice: 0.7674 at epoch: 4\n",
      "Time consuming for epoch 4 is: 2260.1605 seconds\n",
      "----------\n",
      "Epoch 5/400\n"
     ]
    },
    {
     "data": {
      "application/vnd.jupyter.widget-view+json": {
       "model_id": "dab710cd50164a9cab2567995589dd1b",
       "version_major": 2,
       "version_minor": 0
      },
      "text/plain": [
       "Epoch 5/400:   0%|          | 0/68 [00:00<?, ?batch/s]"
      ]
     },
     "metadata": {},
     "output_type": "display_data"
    },
    {
     "name": "stdout",
     "output_type": "stream",
     "text": [
      "Epoch 5 average loss: 0.1179\n"
     ]
    },
    {
     "data": {
      "application/vnd.jupyter.widget-view+json": {
       "model_id": "818489b331f6426c9844e45cd06595df",
       "version_major": 2,
       "version_minor": 0
      },
      "text/plain": [
       "Validation:   0%|          | 0/34 [00:00<?, ?batch/s]"
      ]
     },
     "metadata": {},
     "output_type": "display_data"
    },
    {
     "name": "stdout",
     "output_type": "stream",
     "text": [
      "Saved new best metric model\n",
      "Current epoch: 5 current mean dice: 0.7713 tc: 0.7515 wt: 0.8628 et: 0.7031\n",
      "Best mean dice: 0.7713 at epoch: 5\n",
      "Time consuming for epoch 5 is: 2260.9173 seconds\n",
      "----------\n",
      "Epoch 6/400\n"
     ]
    },
    {
     "data": {
      "application/vnd.jupyter.widget-view+json": {
       "model_id": "6a9ad21c85974729884e423721f2c26e",
       "version_major": 2,
       "version_minor": 0
      },
      "text/plain": [
       "Epoch 6/400:   0%|          | 0/68 [00:00<?, ?batch/s]"
      ]
     },
     "metadata": {},
     "output_type": "display_data"
    },
    {
     "name": "stdout",
     "output_type": "stream",
     "text": [
      "Epoch 6 average loss: 0.1169\n"
     ]
    },
    {
     "data": {
      "application/vnd.jupyter.widget-view+json": {
       "model_id": "dda05bbaf32c495ba2fcf8063b58f71a",
       "version_major": 2,
       "version_minor": 0
      },
      "text/plain": [
       "Validation:   0%|          | 0/34 [00:00<?, ?batch/s]"
      ]
     },
     "metadata": {},
     "output_type": "display_data"
    },
    {
     "name": "stdout",
     "output_type": "stream",
     "text": [
      "Current epoch: 6 current mean dice: 0.7623 tc: 0.7361 wt: 0.8627 et: 0.6923\n",
      "Best mean dice: 0.7713 at epoch: 5\n",
      "Time consuming for epoch 6 is: 2244.0812 seconds\n",
      "----------\n",
      "Epoch 7/400\n"
     ]
    },
    {
     "data": {
      "application/vnd.jupyter.widget-view+json": {
       "model_id": "fe665ad98053410594b15444db5e47cc",
       "version_major": 2,
       "version_minor": 0
      },
      "text/plain": [
       "Epoch 7/400:   0%|          | 0/68 [00:00<?, ?batch/s]"
      ]
     },
     "metadata": {},
     "output_type": "display_data"
    },
    {
     "name": "stdout",
     "output_type": "stream",
     "text": [
      "Epoch 7 average loss: 0.1181\n"
     ]
    },
    {
     "data": {
      "application/vnd.jupyter.widget-view+json": {
       "model_id": "d969f9265cfb44e79f24fc5932197b9e",
       "version_major": 2,
       "version_minor": 0
      },
      "text/plain": [
       "Validation:   0%|          | 0/34 [00:00<?, ?batch/s]"
      ]
     },
     "metadata": {},
     "output_type": "display_data"
    },
    {
     "name": "stdout",
     "output_type": "stream",
     "text": [
      "Current epoch: 7 current mean dice: 0.7625 tc: 0.7396 wt: 0.8606 et: 0.6951\n",
      "Best mean dice: 0.7713 at epoch: 5\n",
      "Time consuming for epoch 7 is: 2213.3426 seconds\n",
      "----------\n",
      "Epoch 8/400\n"
     ]
    },
    {
     "data": {
      "application/vnd.jupyter.widget-view+json": {
       "model_id": "18810884d914489887d748da15bff1ce",
       "version_major": 2,
       "version_minor": 0
      },
      "text/plain": [
       "Epoch 8/400:   0%|          | 0/68 [00:00<?, ?batch/s]"
      ]
     },
     "metadata": {},
     "output_type": "display_data"
    }
   ],
   "source": [
    "best_metric = -1\n",
    "best_metric_epoch = -1\n",
    "best_metrics_epochs_and_time = [[], [], []]\n",
    "epoch_loss_values = []\n",
    "metric_values = []\n",
    "metric_values_tc = []\n",
    "metric_values_wt = []\n",
    "metric_values_et = []\n",
    "\n",
    "total_start = time.time()\n",
    "\n",
    "for epoch in range(cfg.max_epochs):\n",
    "    epoch_start = time.time()\n",
    "    print(\"-\" * 10)\n",
    "    print(f\"Epoch {epoch + 1}/{cfg.max_epochs}\")\n",
    "    model.train()\n",
    "    epoch_loss = 0\n",
    "    step = 0\n",
    "\n",
    "    # Use tqdm for progress bar in training loop\n",
    "    with tqdm(total=len(train_loader), desc=f\"Epoch {epoch + 1}/{cfg.max_epochs}\", unit=\"batch\") as pbar:\n",
    "        for batch_data in train_loader:\n",
    "            step_start = time.time()\n",
    "            step += 1\n",
    "            inputs, labels = batch_data[\"image\"].to('cuda'), batch_data[\"label\"].to('cuda')\n",
    "            optimizer.zero_grad()\n",
    "            with torch.cuda.amp.autocast():\n",
    "                outputs = model(inputs)\n",
    "                loss = loss_function(outputs, labels)\n",
    "            scaler.scale(loss).backward()\n",
    "            scaler.step(optimizer)\n",
    "            scaler.update()\n",
    "            epoch_loss += loss.item()\n",
    "            pbar.set_postfix({\"train_loss\": loss.item(), \"step_time\": f\"{(time.time() - step_start):.4f}s\"})\n",
    "            pbar.update(1)\n",
    "    \n",
    "    lr_scheduler.step()\n",
    "    epoch_loss /= step\n",
    "    epoch_loss_values.append(epoch_loss)\n",
    "    print(f\"Epoch {epoch + 1} average loss: {epoch_loss:.4f}\")\n",
    "\n",
    "    if (epoch + 1) % cfg.val_interval == 0:\n",
    "        model.eval()\n",
    "        with torch.no_grad():\n",
    "            # Use tqdm for progress bar in validation loop\n",
    "            with tqdm(total=len(val_loader), desc=\"Validation\", unit=\"batch\") as pbar_val:\n",
    "                for val_data in val_loader:\n",
    "                    val_inputs, val_labels = (\n",
    "                        val_data[\"image\"].to('cuda'),\n",
    "                        val_data[\"label\"].to('cuda')\n",
    "                    )\n",
    "                    # Perform inference     \n",
    "                    val_outputs = inference(val_inputs)\n",
    "\n",
    "                    # Apply post-transformation and decollate batch\n",
    "                    val_outputs = [post_trans(i) for i in decollate_batch(val_outputs)]\n",
    "\n",
    "                    # Calculate dice metrics\n",
    "                    dice_metric(y_pred=val_outputs, y=val_labels)\n",
    "                    dice_metric_batch(y_pred=val_outputs, y=val_labels)\n",
    "                    pbar_val.update(1)\n",
    "\n",
    "                metric = dice_metric.aggregate().item()\n",
    "                metric_values.append(metric)\n",
    "                metric_batch = dice_metric_batch.aggregate()\n",
    "                metric_tc = metric_batch[0].item()\n",
    "                metric_values_tc.append(metric_tc)\n",
    "                metric_wt = metric_batch[1].item()\n",
    "                metric_values_wt.append(metric_wt)\n",
    "                metric_et = metric_batch[2].item()\n",
    "                metric_values_et.append(metric_et)\n",
    "                dice_metric.reset()\n",
    "                dice_metric_batch.reset()\n",
    "\n",
    "                if metric > best_metric:\n",
    "                    best_metric = metric\n",
    "                    best_metric_epoch = epoch + 1\n",
    "                    best_metrics_epochs_and_time[0].append(best_metric)\n",
    "                    best_metrics_epochs_and_time[1].append(best_metric_epoch)\n",
    "                    best_metrics_epochs_and_time[2].append(time.time() - total_start)\n",
    "                    torch.save(\n",
    "                        model.state_dict(),\n",
    "                        str(cfg.save_dir / f\"best_metric_model_{best_metric:.4f}.pth\"),\n",
    "                    )\n",
    "                    print(\"Saved new best metric model\")\n",
    "                print(\n",
    "                    f\"Current epoch: {epoch + 1} current mean dice: {metric:.4f}\"\n",
    "                    f\" tc: {metric_tc:.4f} wt: {metric_wt:.4f} et: {metric_et:.4f}\"\n",
    "                    f\"\\nBest mean dice: {best_metric:.4f}\"\n",
    "                    f\" at epoch: {best_metric_epoch}\"\n",
    "                )\n",
    "    print(f\"Time consuming for epoch {epoch + 1} is: {(time.time() - epoch_start):.4f} seconds\")\n",
    "\n",
    "total_time = time.time() - total_start\n",
    "print(f\"Total training time: {total_time:.4f} seconds\")"
   ]
  },
  {
   "cell_type": "code",
   "execution_count": null,
   "metadata": {},
   "outputs": [],
   "source": [
    "plt.figure(\"train\", (12, 6))\n",
    "plt.subplot(1, 2, 1)\n",
    "plt.title(\"Epoch Average Loss\")\n",
    "x = [i + 1 for i in range(len(epoch_loss_values))]\n",
    "y = epoch_loss_values\n",
    "plt.xlabel(\"epoch\")\n",
    "plt.plot(x, y, color=\"red\")\n",
    "plt.subplot(1, 2, 2)\n",
    "plt.title(\"Val Mean Dice\")\n",
    "x = [val_interval * (i + 1) for i in range(len(metric_values))]\n",
    "y = metric_values\n",
    "plt.xlabel(\"epoch\")\n",
    "plt.plot(x, y, color=\"green\")\n",
    "plt.show()\n",
    "\n",
    "plt.figure(\"train\", (18, 6))\n",
    "plt.subplot(1, 3, 1)\n",
    "plt.title(\"Val Mean Dice TC\")\n",
    "x = [val_interval * (i + 1) for i in range(len(metric_values_tc))]\n",
    "y = metric_values_tc\n",
    "plt.xlabel(\"epoch\")\n",
    "plt.plot(x, y, color=\"blue\")\n",
    "plt.subplot(1, 3, 2)\n",
    "plt.title(\"Val Mean Dice WT\")\n",
    "x = [val_interval * (i + 1) for i in range(len(metric_values_wt))]\n",
    "y = metric_values_wt\n",
    "plt.xlabel(\"epoch\")\n",
    "plt.plot(x, y, color=\"brown\")\n",
    "plt.subplot(1, 3, 3)\n",
    "plt.title(\"Val Mean Dice ET\")\n",
    "x = [val_interval * (i + 1) for i in range(len(metric_values_et))]\n",
    "y = metric_values_et\n",
    "plt.xlabel(\"epoch\")\n",
    "plt.plot(x, y, color=\"purple\")\n",
    "plt.show()"
   ]
  },
  {
   "cell_type": "code",
   "execution_count": null,
   "metadata": {},
   "outputs": [],
   "source": [
    "model.load_state_dict(torch.load(str(cfg.save_dir / f\"best_metric_model_{best_metric}.pth\")))\n",
    "model.eval()\n",
    "with torch.no_grad():\n",
    "    # select one image to evaluate and visualize the model output\n",
    "    val_input = valid_dataset[2][\"image\"].unsqueeze(0).cuda()\n",
    "    roi_size = (128, 128, 64)\n",
    "    sw_batch_size = 4\n",
    "    val_output = inference(val_input)\n",
    "    val_output = post_trans(val_output[0])\n",
    "    plt.figure(\"image\", (24, 6))\n",
    "    for i in range(4):\n",
    "        plt.subplot(1, 4, i + 1)\n",
    "        plt.title(f\"image channel {i}\")\n",
    "        plt.imshow(valid_dataset[2][\"image\"][i, :, :, 70].detach().cpu(), cmap=\"gray\")\n",
    "    plt.show()\n",
    "    # visualize the 3 channels label corresponding to this image\n",
    "    plt.figure(\"label\", (18, 6))\n",
    "    for i in range(3):\n",
    "        plt.subplot(1, 3, i + 1)\n",
    "        plt.title(f\"label channel {i}\")\n",
    "        plt.imshow(valid_dataset[2][\"label\"][i, :, :, 70].detach().cpu())\n",
    "    plt.show()\n",
    "    # visualize the 3 channels model output corresponding to this image\n",
    "    plt.figure(\"output\", (18, 6))\n",
    "    for i in range(3):\n",
    "        plt.subplot(1, 3, i + 1)\n",
    "        plt.title(f\"output channel {i}\")\n",
    "        plt.imshow(val_output[i, :, :, 70].detach().cpu())\n",
    "    plt.show()"
   ]
  }
 ],
 "metadata": {
  "kernelspec": {
   "display_name": "Python 3",
   "language": "python",
   "name": "python3"
  },
  "language_info": {
   "codemirror_mode": {
    "name": "ipython",
    "version": 3
   },
   "file_extension": ".py",
   "mimetype": "text/x-python",
   "name": "python",
   "nbconvert_exporter": "python",
   "pygments_lexer": "ipython3",
   "version": "3.10.14"
  }
 },
 "nbformat": 4,
 "nbformat_minor": 2
}
