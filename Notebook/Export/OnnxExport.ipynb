{
 "cells": [
  {
   "cell_type": "code",
   "execution_count": 4,
   "metadata": {},
   "outputs": [],
   "source": [
    "import os\n",
    "import torch\n",
    "import torch.onnx\n",
    "import numpy as np\n",
    "import onnx\n",
    "import onnxruntime\n",
    "from monai.networks.nets import SegResNet\n"
   ]
  },
  {
   "cell_type": "code",
   "execution_count": null,
   "metadata": {},
   "outputs": [],
   "source": [
    "# 모델 정의 (예제에 맞게 수정 필요)\n",
    "model = SegResNet(\n",
    "    blocks_down=[1, 2, 2, 4],\n",
    "    blocks_up=[1, 1, 1],\n",
    "    init_filters=16,\n",
    "    in_channels=4,\n",
    "    out_channels=3,\n",
    "    dropout_prob=0.2,\n",
    ").cuda()\n",
    "\n",
    "# 저장된 모델 디렉토리\n",
    "model_path = \"/player/workspace/Python/brain-otock/Model/best_metric_model_0.7747.pth\"\n",
    "onnx_path = \"/player/workspace/Python/brain-otock/ONNX/best_metric_model_0.7747.onnx\"\n",
    "\n",
    "# 모델을 평가 모드로 설정\n",
    "model.eval()\n",
    "\n",
    "# ONNX 변환 함수\n",
    "def convert_to_onnx(model, model_path, onnx_path, input_size=(1, 4, 128, 128, 80)):\n",
    "    # 저장된 모델 불러오기\n",
    "    model.load_state_dict(torch.load(model_path))\n",
    "    \n",
    "    # 더미 입력 생성 (입력 크기: 배치, 채널, 깊이, 높이, 너비)\n",
    "    dummy_input = torch.randn(*input_size).cuda()\n",
    "    \n",
    "    # 모델을 ONNX 형식으로 변환\n",
    "    torch.onnx.export(\n",
    "        model,                     # PyTorch 모델\n",
    "        dummy_input,               # 더미 입력\n",
    "        onnx_path,                 # 저장할 ONNX 파일 경로\n",
    "        export_params=True,        # 모델 매개변수를 함께 저장\n",
    "        opset_version=11,          # ONNX opset 버전\n",
    "        do_constant_folding=True,  # 상수 폴딩 최적화\n",
    "        input_names=['input'],     # 입력 텐서 이름\n",
    "        output_names=['output'],   # 출력 텐서 이름\n",
    "        dynamic_axes={\n",
    "            'input': {0: 'batch_size'},    # 배치 크기를 동적으로 처리\n",
    "            'output': {0: 'batch_size'}\n",
    "        }\n",
    "    )\n",
    "    print(f\"Model has been converted to ONNX and saved at {onnx_path}\")\n",
    "\n",
    "# 모델 ONNX로 변환\n",
    "convert_to_onnx(model, model_path, onnx_path)"
   ]
  },
  {
   "cell_type": "code",
   "execution_count": 7,
   "metadata": {},
   "outputs": [],
   "source": [
    "# 결과 확인 및 차이 계산 함수\n",
    "def compare_onnx_pytorch(model, model_path, onnx_path, input_size=(1, 4, 128, 128, 80)):\n",
    "    # PyTorch 모델 로드\n",
    "    model.load_state_dict(torch.load(model_path))\n",
    "    model.eval()\n",
    "    \n",
    "    # ONNX 모델 로드\n",
    "    ort_session = onnxruntime.InferenceSession(onnx_path)\n",
    "\n",
    "    # 더미 입력 생성\n",
    "    dummy_input = torch.randn(*input_size).cuda()\n",
    "\n",
    "    # PyTorch 모델 추론\n",
    "    with torch.no_grad():\n",
    "        pytorch_output = model(dummy_input)\n",
    "\n",
    "    # ONNX 모델 추론\n",
    "    ort_inputs = {ort_session.get_inputs()[0].name: dummy_input.cpu().numpy()}\n",
    "    ort_outs = ort_session.run(None, ort_inputs)\n",
    "    onnx_output = torch.tensor(ort_outs[0]).cuda()\n",
    "\n",
    "    # 출력 값을 직접 비교하여 차이 확인\n",
    "    difference = torch.abs(pytorch_output - onnx_output)\n",
    "    max_difference = torch.max(difference).item()\n",
    "    print(f\"Maximum difference between PyTorch and ONNX outputs: {max_difference:.6f}\")"
   ]
  },
  {
   "cell_type": "code",
   "execution_count": 8,
   "metadata": {},
   "outputs": [
    {
     "name": "stdout",
     "output_type": "stream",
     "text": [
      "Maximum difference between PyTorch and ONNX outputs: 0.000458\n"
     ]
    }
   ],
   "source": [
    "compare_onnx_pytorch(model, model_path, onnx_path)"
   ]
  }
 ],
 "metadata": {
  "kernelspec": {
   "display_name": "base",
   "language": "python",
   "name": "python3"
  },
  "language_info": {
   "codemirror_mode": {
    "name": "ipython",
    "version": 3
   },
   "file_extension": ".py",
   "mimetype": "text/x-python",
   "name": "python",
   "nbconvert_exporter": "python",
   "pygments_lexer": "ipython3",
   "version": "3.10.14"
  }
 },
 "nbformat": 4,
 "nbformat_minor": 2
}
